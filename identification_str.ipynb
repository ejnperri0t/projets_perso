{
  "nbformat": 4,
  "nbformat_minor": 0,
  "metadata": {
    "colab": {
      "provenance": [],
      "authorship_tag": "ABX9TyOqRpeUJyR/XhILLbjX/+TT"
    },
    "kernelspec": {
      "name": "python3",
      "display_name": "Python 3"
    },
    "language_info": {
      "name": "python"
    }
  },
  "cells": [
    {
      "cell_type": "code",
      "execution_count": null,
      "metadata": {
        "id": "8G3Kh_3AhQSo"
      },
      "outputs": [],
      "source": [
        "#Compter le nombre de motifs type dans une chaine d'ADN puis retourner le nombre de motifs\n",
        "\n",
        "def compteur_motifs(Sequence,Motif):        #notre fonction prend deux arguments, la sequence d'ADN et le motif recherché\n",
        "  compteur=0                                #initialisation de notre compteur à 0\n",
        "  for i in range(len(Sequence)-1):\n",
        "    if Sequence[i:i+len(Motif)]==Motif:     #on passe en revue chaque position de la chaîne par paquet de motif [i:i+len(motif)] de la position i, premier lettre du motif à la dernière lettre du motif.\n",
        "      compteur+=1                           #si on trouve le motif on incrémente notre compteur\n",
        "  return compteur                           #une fois la totalité de la chaîne passée en revue on retourne le nombre de motif comptés\n",
        "\n",
        "#~~~~~~~~~~~~~~~~~~~~~~~~~~~~~~~~~~~~~~~~~~~~~~~~~~~~~~~~~~~~~~~~~~~~~~~~~~~~~\n",
        "#~Test\n",
        "#compteur_motifs('ATGCGEGNONODAIJDOAKOKAZPKEPAZPABCDJAOJDOIAJODABCDKDKDKAOKLLMMPPMABCHHEIJDKDEOPKPABCNIUJIDABCOJKABCBCBCBCABCABC','ABC')"
      ]
    },
    {
      "cell_type": "code",
      "source": [
        "#Améliorons notre compteur de sorte à trouver les séquences SD proches d'un codon start.\n",
        "\n",
        "def compteur_SD_start(Sequence):            #Ici le motif est connu : AGGAGGUAA -6à12pdb- AUG\n",
        "  compteur=0\n",
        "  for i in range(len(Sequence)-1):\n",
        "    if Sequence[i:i+9]=='AGGAGGUAA':        #On reconnaît d'abord notre séquence SD\n",
        "      for j in range(12):                   #Une fois la SD trouvée, on cherche un codon initiateur AUG dans les 12 nucléotides suivants (A en 12position compris)\n",
        "        redondance_marqueur=0               #On met en place un marqueur de redondance pour éviter de compter plusieurs fois le motif AUG au cas où.\n",
        "        if Sequence[i+9+j:i+j+12]=='AUG':\n",
        "          compteur+=1                       #Si on trouve un motif AUG on incrémente notre compteur\n",
        "          redondance_marqueur=1             #Et on change le statut de notre indicateur de redondance.\n",
        "        if redondance_marqueur==1:\n",
        "          break                             #seq SD+AUG trouvée, on sort de cette boucle.\n",
        "\n",
        "  return compteur\n",
        "#~~~~~~~~~~~~~~~~~~~~~~~~~~~~~~~~~~~~~~~~~~~~~~~~~~~~~~~~~~~~~~~~~~~~~~~~~~~~~\n",
        "#~Test\n",
        "#compteur_SD_start('ATGCGEGNONODAIJDOAKOKAGGAGGUAAAZPKEPAZPABCDJAOJDOIAJODABCDKDAGGAGGUAAKDKAUGAUGAOATGAUGKLLMMPPMABAGGAGGUAACHHEIJDKDEOAUGCCAUGPKPABCNIUJIDABCOJKABCBCBCBCABCABCAKKADOAKDAPOKDAZIDHZAIUDAZNJAGGAGGUAABCDHFAUG')\n"
      ],
      "metadata": {
        "id": "-1iO19E5jFLs"
      },
      "execution_count": null,
      "outputs": []
    },
    {
      "cell_type": "markdown",
      "source": [
        "Il faut que le programme reconnaisse d'abord un motif puis **garde en mémoire sa taille de répétition et son motif** (STR), (on peut considérer qu'une répétition d'**un seuil de 5x est un minimum pour un STR**) et les comparent avec d'autres possibilités de motif répétés. Le résultat final est le motif répété en tandem le plus de fois."
      ],
      "metadata": {
        "id": "ZTQ9hcl-v81H"
      }
    },
    {
      "cell_type": "code",
      "source": [
        "#Essayons maintenant de construire un programme capable de reconnaître le motif STRm d'une séquence.\n",
        "\n",
        "def STR_recon(Sequence):                    #En entrée seulement la séquence que l'on souhaite analyser. ( rajouter une taille de motif recherché?)\n",
        "  motif=[]\n",
        "  Liste_motifs=[]\n",
        "  for i in range(len(Sequence)-1):\n",
        "    if Sequence[i:i+3]==Sequence[i+3:i+6]:   #en python le slicing marche de [i:i+3] avec i inclus mais i+3 exclus. comme on veut i,i+1,et i+2 on ajuste notre recherche.\n",
        "      motif=Sequence[i:i+3]                  #Une fois qu'on a un motif qui se répète une fois, on le garde en mémoire pour le tester\n",
        "      compteur=0\n",
        "      j=i\n",
        "      while Sequence[j:j+3]==motif:          #On compte le nombre de fois d'affilé où le motif se répète\n",
        "        compteur+=1\n",
        "        j+=3                                 #On saute de 3 nucléotides en 3\n",
        "      if compteur>5 and not any(motif==candidat[0] for candidat in Liste_motifs):    #si le motif se répète au moins 5x et n'est pas dans la liste, on le garde\n",
        "        Liste_motifs.append([motif,compteur])\n",
        "  Liste_motifs.sort(key=lambda x: x[1], reverse=True)\n",
        "  return 'La STR de cette séquence est '+ str(Liste_motifs[0][0]) + ' avec ' + str(Liste_motifs[0][1]) + ' répétitions'\n",
        "  #return Liste_motifs\n",
        "\n",
        "#~~~~~~~~~~~~~~~~~~~~~~~~~~~~~~~~~~~~~~~~~~~~~~~~~~~~~~~~~~~~~~~~~~~~~~~~~~~~~~~\n",
        "#~~Test\n",
        "STR_recon('TTDBHDJKAILDOAKDNTTATTATTATTATTANHNEHENPPCPPCPPCPPCPPCPPCPPCPPCPPCOKL')"
      ],
      "metadata": {
        "colab": {
          "base_uri": "https://localhost:8080/",
          "height": 36
        },
        "id": "KdGLYvBrp5Z9",
        "outputId": "f549cf17-9a38-45fd-8d4a-bb54b11c7e01"
      },
      "execution_count": null,
      "outputs": [
        {
          "output_type": "execute_result",
          "data": {
            "text/plain": [
              "'La STR de cette séquence est PPC avec 9 répétitions'"
            ],
            "application/vnd.google.colaboratory.intrinsic+json": {
              "type": "string"
            }
          },
          "metadata": {},
          "execution_count": 4
        }
      ]
    },
    {
      "cell_type": "markdown",
      "source": [
        "Sur la base de ce programme, qui ne fait le tri qu'entre des motifs de 3 nucléotides long d'au moins 5 répétitions, incluons la possibilité de choisir la taille du motif souhaité et de ne garder que le plus grand dans notre liste."
      ],
      "metadata": {
        "id": "NfoXyjTJX7GT"
      }
    },
    {
      "cell_type": "code",
      "source": [
        "from google.colab import drive\n",
        "drive.mount('/content/drive')\n",
        "\n",
        "#Pour pouvoir lire un fichier .txt depuis Google Drive:\n",
        "def lire_fichier(index):\n",
        "    with open(index) as fichier:\n",
        "        texte = fichier.read()\n",
        "    return texte\n"
      ],
      "metadata": {
        "colab": {
          "base_uri": "https://localhost:8080/"
        },
        "id": "ymF4a59EeElU",
        "outputId": "9f329990-98d7-41f1-c5a7-6277cd52b3fd"
      },
      "execution_count": null,
      "outputs": [
        {
          "output_type": "stream",
          "name": "stdout",
          "text": [
            "Mounted at /content/drive\n"
          ]
        }
      ]
    },
    {
      "cell_type": "code",
      "source": [
        "# Reprenons la base du programme\n",
        "\n",
        "def STR_recon2(Sequence,taille_m):            #Notre prog prend maintenant 2arg, la seq et la taille du motif recherché\n",
        "  motif=[]\n",
        "  Liste_motifs=[]\n",
        "  for i in range(len(Sequence)-1):\n",
        "    if Sequence[i:i+taille_m]==Sequence[i+taille_m:i+taille_m*2]:   #ici on cherche en tandem selon la taille du motif\n",
        "      motif=Sequence[i:i+taille_m]\n",
        "      compteur=0\n",
        "      j=i\n",
        "      while Sequence[j:j+taille_m]==motif:\n",
        "        compteur+=1\n",
        "        j+=taille_m\n",
        "      if Liste_motifs==[]:                                          #si la liste est vide, on place le premier motif candidat\n",
        "        Liste_motifs=[motif,compteur]\n",
        "      elif compteur>Liste_motifs[1]:                                #si la liste est plein, on remplace par le candidat le plus répété\n",
        "        Liste_motifs=[motif,compteur]\n",
        "  return Liste_motifs\n",
        "#~~~~~~~~~~~~~~~~~~~~~~~~~~~~~~~~~~~~~~~~~~~~~~~~~~~~~~~~~~~~~~~~~~~~~~~~~~~~~~\n",
        "#Essayons notre nouveau programme avec un allèle du gène D18S51 d'Homo Sapiens, dont la STR est 'AGAA' 13x.\n",
        "STR_recon2(lire_fichier('/content/drive/My Drive/locusD18S51.txt'),4)"
      ],
      "metadata": {
        "colab": {
          "base_uri": "https://localhost:8080/"
        },
        "id": "ipP2eu2jYPqb",
        "outputId": "836fbafb-7196-4c9e-a337-2cf7080b78f6"
      },
      "execution_count": null,
      "outputs": [
        {
          "output_type": "execute_result",
          "data": {
            "text/plain": [
              "['AGAA', 13]"
            ]
          },
          "metadata": {},
          "execution_count": 6
        }
      ]
    }
  ]
}